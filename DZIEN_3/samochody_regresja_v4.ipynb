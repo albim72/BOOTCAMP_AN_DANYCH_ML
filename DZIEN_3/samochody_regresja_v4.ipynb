{
 "cells":[
  {
   "cell_type":"code",
   "source":[
    "install.packages(\"tensorflow\")"
   ],
   "execution_count":1,
   "outputs":[
    {
     "name":"stderr",
     "text":[
      "also installing the dependencies ‘rprojroot’, ‘RcppTOML’, ‘here’, ‘png’, ‘whisker’, ‘config’, ‘reticulate’, ‘tfruns’, ‘tfautograph’\n",
      "\n",
      "\n",
      "Updating HTML index of packages in '.Library'\n",
      "\n",
      "Making 'packages.html' ...\n",
      " done\n",
      "\n"
     ],
     "output_type":"stream"
    }
   ],
   "metadata":{
    "datalore":{
     "node_id":"bqapIYCP8k1aDvcsVhABcn",
     "type":"CODE",
     "hide_input_from_viewers":true,
     "hide_output_from_viewers":true
    }
   }
  },
  {
   "cell_type":"code",
   "source":[
    "library(reticulate)\n",
    "path_to_python <- install_python()\n",
    "virtualenv_create(\"r-reticulate\", python = path_to_python)"
   ],
   "execution_count":2,
   "outputs":[
    {
     "name":"stdout",
     "text":[
      "Installing pyenv ...\n",
      "Done! pyenv has been installed to '\/home\/datalore\/.local\/share\/r-reticulate\/pyenv\/bin\/pyenv'.\n"
     ],
     "output_type":"stream"
    },
    {
     "name":"stderr",
     "text":[
      "+ '\/home\/datalore\/.local\/share\/r-reticulate\/pyenv\/libexec\/pyenv' install --skip-existing 3.9.17\n",
      "\n"
     ],
     "output_type":"stream"
    },
    {
     "ename":"ERROR",
     "evalue":"ERROR: Error: installation of Python 3.9.17 failed\n",
     "traceback":[
      "\u001b[0;31m---------------------------------------------------------------------------",
      "Traceback (most recent call last)",
      "ERROR: Error: installation of Python 3.9.17 failed\n"
     ],
     "output_type":"error"
    }
   ],
   "metadata":{
    "datalore":{
     "node_id":"RG6dkE63GZNhNknfdkJFZa",
     "type":"CODE",
     "hide_input_from_viewers":true,
     "hide_output_from_viewers":true
    }
   }
  },
  {
   "cell_type":"code",
   "source":[
    "library(tensorflow)\n",
    "install_tensorflow(envname=\"r-reticulate\")"
   ],
   "execution_count":3,
   "outputs":[
    {
     "name":"stdout",
     "text":[
      "Using Python: \/opt\/anaconda3\/bin\/python3.8\n",
      "Creating virtual environment 'r-reticulate' ... \n",
      "Done!\n",
      "Installing packages: 'pip', 'wheel', 'setuptools', 'numpy'\n",
      "Virtual environment 'r-reticulate' successfully created.\n",
      "Using virtual environment 'r-reticulate' ...\n",
      "\n",
      "Installation complete.\n",
      "\n"
     ],
     "output_type":"stream"
    },
    {
     "name":"stderr",
     "text":[
      "+ '\/opt\/anaconda3\/bin\/python3.8' -m venv '\/home\/datalore\/.virtualenvs\/r-reticulate'\n",
      "\n",
      "+ '\/home\/datalore\/.virtualenvs\/r-reticulate\/bin\/python' -m pip install --upgrade --no-user 'pip' 'wheel' 'setuptools' 'numpy'\n",
      "\n",
      "+ '\/home\/datalore\/.virtualenvs\/r-reticulate\/bin\/python' -m pip install --upgrade --no-user --ignore-installed 'tensorflow==2.11.*'\n",
      "\n"
     ],
     "output_type":"stream"
    }
   ],
   "metadata":{
    "datalore":{
     "node_id":"aFphen6Wo7GfLJgUEq77yu",
     "type":"CODE",
     "hide_input_from_viewers":true,
     "hide_output_from_viewers":true
    }
   }
  },
  {
   "cell_type":"code",
   "source":[
    "install.packages(\"keras\")\n",
    "library(keras)\n",
    "install_keras(envname=\"r-reticulate\")"
   ],
   "execution_count":4,
   "outputs":[
    {
     "name":"stdout",
     "text":[
      "Using virtual environment 'r-reticulate' ...\n",
      "\n",
      "Installation complete.\n",
      "\n"
     ],
     "output_type":"stream"
    },
    {
     "name":"stderr",
     "text":[
      "also installing the dependency ‘zeallot’\n",
      "\n",
      "\n",
      "Updating HTML index of packages in '.Library'\n",
      "\n",
      "Making 'packages.html' ...\n",
      " done\n",
      "\n",
      "+ '\/home\/datalore\/.virtualenvs\/r-reticulate\/bin\/python' -m pip install --upgrade --no-user --ignore-installed 'tensorflow==2.11.*' 'tensorflow-hub' 'tensorflow-datasets' 'scipy' 'requests' 'Pillow' 'h5py' 'pandas' 'pydot'\n",
      "\n"
     ],
     "output_type":"stream"
    }
   ],
   "metadata":{
    "datalore":{
     "node_id":"OJL0Tx4HqSbA91DnoIYwMW",
     "type":"CODE",
     "hide_input_from_viewers":true,
     "hide_output_from_viewers":true
    }
   }
  },
  {
   "cell_type":"code",
   "source":[
    "library(tensorflow)\n",
    "tf$constant(\"Witaj Tensoflow!\")"
   ],
   "execution_count":5,
   "outputs":[
    {
     "data":{
      "text\/plain":[
       "tf.Tensor(b'Witaj Tensoflow!', shape=(), dtype=string)"
      ]
     },
     "metadata":{
      
     },
     "output_type":"display_data"
    }
   ],
   "metadata":{
    "datalore":{
     "node_id":"JsbJOMw1B4S7evaVD3xiHG",
     "type":"CODE",
     "hide_input_from_viewers":true,
     "hide_output_from_viewers":true
    }
   }
  },
  {
   "cell_type":"code",
   "source":[
    "library(tensorflow)\n",
    "library(keras)\n",
    "library(tidyverse)"
   ],
   "execution_count":6,
   "outputs":[
    {
     "name":"stderr",
     "text":[
      "Warning message in system(\"timedatectl\", intern = TRUE):\n",
      "“running command 'timedatectl' had status 1”\n",
      "Warning message:\n",
      "“Failed to locate timezone database”\n",
      "── \u001b[1mAttaching core tidyverse packages\u001b[22m ──────────────────────── tidyverse 2.0.0 ──\n",
      "\u001b[32m✔\u001b[39m \u001b[34mdplyr    \u001b[39m 1.1.1     \u001b[32m✔\u001b[39m \u001b[34mreadr    \u001b[39m 2.1.4\n",
      "\u001b[32m✔\u001b[39m \u001b[34mforcats  \u001b[39m 1.0.0     \u001b[32m✔\u001b[39m \u001b[34mstringr  \u001b[39m 1.5.0\n",
      "\u001b[32m✔\u001b[39m \u001b[34mggplot2  \u001b[39m 3.4.2     \u001b[32m✔\u001b[39m \u001b[34mtibble   \u001b[39m 3.2.1\n",
      "\u001b[32m✔\u001b[39m \u001b[34mlubridate\u001b[39m 1.9.2     \u001b[32m✔\u001b[39m \u001b[34mtidyr    \u001b[39m 1.3.0\n",
      "\u001b[32m✔\u001b[39m \u001b[34mpurrr    \u001b[39m 1.0.1     \n",
      "── \u001b[1mConflicts\u001b[22m ────────────────────────────────────────── tidyverse_conflicts() ──\n",
      "\u001b[31m✖\u001b[39m \u001b[34mdplyr\u001b[39m::\u001b[32mfilter()\u001b[39m  masks \u001b[34mstats\u001b[39m::filter()\n",
      "\u001b[31m✖\u001b[39m \u001b[34mpurrr\u001b[39m::\u001b[32mflatten()\u001b[39m masks \u001b[34mjsonlite\u001b[39m::flatten()\n",
      "\u001b[31m✖\u001b[39m \u001b[34mdplyr\u001b[39m::\u001b[32mlag()\u001b[39m     masks \u001b[34mstats\u001b[39m::lag()\n",
      "\u001b[36mℹ\u001b[39m Use the conflicted package (\u001b[3m\u001b[34m<http:\/\/conflicted.r-lib.org\/>\u001b[39m\u001b[23m) to force all conflicts to become errors\n"
     ],
     "output_type":"stream"
    }
   ],
   "metadata":{
    "datalore":{
     "node_id":"xf7Awhv9fTu38kdPE9Oioq",
     "type":"CODE",
     "hide_input_from_viewers":true,
     "hide_output_from_viewers":true
    }
   }
  },
  {
   "cell_type":"code",
   "source":[
    "install.packages(\"tidymodels\")"
   ],
   "execution_count":null,
   "outputs":[
    
   ],
   "metadata":{
    "datalore":{
     "node_id":"FVdpKmMzUdkLxpVgKTN17h",
     "type":"CODE",
     "hide_input_from_viewers":true,
     "hide_output_from_viewers":true
    }
   }
  },
  {
   "cell_type":"code",
   "source":[
    "library(tidymodels)"
   ],
   "execution_count":null,
   "outputs":[
    
   ],
   "metadata":{
    "datalore":{
     "node_id":"MmgryPwtPmUjvcixN8HTK4",
     "type":"CODE",
     "hide_input_from_viewers":true,
     "hide_output_from_viewers":true
    }
   }
  },
  {
   "cell_type":"code",
   "source":[
    "url <- \"http:\/\/archive.ics.uci.edu\/ml\/machine-learning-databases\/auto-mpg\/auto-mpg.data\"\n",
    "col_names<-c(\"mpg\",\"cylinders\",\"displacement\",\"horsepower\",\"weight\",\"acceleration\",\"model_year\",\"origin\",\"car_name\") \n",
    "\n",
    "raw_dataset <- read.table(\n",
    "    url,\n",
    "    header = T,\n",
    "    col.names = col_names,\n",
    "    na.strings = \"?\"\n",
    ")"
   ],
   "execution_count":7,
   "outputs":[
    
   ],
   "metadata":{
    "datalore":{
     "node_id":"eDUMD7biKt4xbwdNMfVzy7",
     "type":"CODE",
     "hide_input_from_viewers":true,
     "hide_output_from_viewers":true
    }
   }
  },
  {
   "cell_type":"code",
   "source":[
    "dataset<-raw_dataset %>% select(-car_name)\n",
    "tail(dataset)"
   ],
   "execution_count":8,
   "outputs":[
    {
     "data":{
      "text\/html":[
       "<table class=\"dataframe\">\n",
       "<caption>A data.frame: 6 × 8<\/caption>\n",
       "<thead>\n",
       "\t<tr><th><\/th><th scope=col>mpg<\/th><th scope=col>cylinders<\/th><th scope=col>displacement<\/th><th scope=col>horsepower<\/th><th scope=col>weight<\/th><th scope=col>acceleration<\/th><th scope=col>model_year<\/th><th scope=col>origin<\/th><\/tr>\n",
       "\t<tr><th><\/th><th scope=col>&lt;dbl&gt;<\/th><th scope=col>&lt;int&gt;<\/th><th scope=col>&lt;dbl&gt;<\/th><th scope=col>&lt;dbl&gt;<\/th><th scope=col>&lt;dbl&gt;<\/th><th scope=col>&lt;dbl&gt;<\/th><th scope=col>&lt;int&gt;<\/th><th scope=col>&lt;int&gt;<\/th><\/tr>\n",
       "<\/thead>\n",
       "<tbody>\n",
       "\t<tr><th scope=row>392<\/th><td>27<\/td><td>4<\/td><td>151<\/td><td>90<\/td><td>2950<\/td><td>17.3<\/td><td>82<\/td><td>1<\/td><\/tr>\n",
       "\t<tr><th scope=row>393<\/th><td>27<\/td><td>4<\/td><td>140<\/td><td>86<\/td><td>2790<\/td><td>15.6<\/td><td>82<\/td><td>1<\/td><\/tr>\n",
       "\t<tr><th scope=row>394<\/th><td>44<\/td><td>4<\/td><td> 97<\/td><td>52<\/td><td>2130<\/td><td>24.6<\/td><td>82<\/td><td>2<\/td><\/tr>\n",
       "\t<tr><th scope=row>395<\/th><td>32<\/td><td>4<\/td><td>135<\/td><td>84<\/td><td>2295<\/td><td>11.6<\/td><td>82<\/td><td>1<\/td><\/tr>\n",
       "\t<tr><th scope=row>396<\/th><td>28<\/td><td>4<\/td><td>120<\/td><td>79<\/td><td>2625<\/td><td>18.6<\/td><td>82<\/td><td>1<\/td><\/tr>\n",
       "\t<tr><th scope=row>397<\/th><td>31<\/td><td>4<\/td><td>119<\/td><td>82<\/td><td>2720<\/td><td>19.4<\/td><td>82<\/td><td>1<\/td><\/tr>\n",
       "<\/tbody>\n",
       "<\/table>\n"
      ]
     },
     "metadata":{
      
     },
     "output_type":"display_data"
    }
   ],
   "metadata":{
    "datalore":{
     "node_id":"39mMEQHBZRYyl4S9Y1s1Lo",
     "type":"CODE",
     "hide_input_from_viewers":true,
     "hide_output_from_viewers":true
    }
   }
  },
  {
   "cell_type":"code",
   "source":[
    "lapply(dataset,function(x) sum(is.na(x))) %>% str()"
   ],
   "execution_count":9,
   "outputs":[
    {
     "name":"stdout",
     "text":[
      "List of 8\n",
      " $ mpg         : int 0\n",
      " $ cylinders   : int 0\n",
      " $ displacement: int 0\n",
      " $ horsepower  : int 6\n",
      " $ weight      : int 0\n",
      " $ acceleration: int 0\n",
      " $ model_year  : int 0\n",
      " $ origin      : int 0\n"
     ],
     "output_type":"stream"
    }
   ],
   "metadata":{
    "datalore":{
     "node_id":"2923fqZXKBzVde5trrG3qb",
     "type":"CODE",
     "hide_input_from_viewers":true,
     "hide_output_from_viewers":true
    }
   }
  },
  {
   "cell_type":"code",
   "source":[
    "#ususnięcie rekordów z n\/a\n",
    "dataset <- na.omit(dataset)"
   ],
   "execution_count":10,
   "outputs":[
    
   ],
   "metadata":{
    "datalore":{
     "node_id":"LFu4UYEheNx7edx0tFehbX",
     "type":"CODE",
     "hide_input_from_viewers":true,
     "hide_output_from_viewers":true
    }
   }
  },
  {
   "cell_type":"code",
   "source":[
    "install.packages(\"recipes\")"
   ],
   "execution_count":null,
   "outputs":[
    {
     "name":"stderr",
     "text":[
      "also installing the dependencies ‘shape’, ‘numDeriv’, ‘progressr’, ‘SQUAREM’, ‘diagram’, ‘KernSmooth’, ‘lava’, ‘tzdb’, ‘rpart’, ‘survival’, ‘nnet’, ‘class’, ‘prodlim’, ‘clock’, ‘gower’, ‘hardhat’, ‘ipred’, ‘timeDate’\n",
      "\n",
      "\n",
      "Warning message in install.packages(\"recipes\"):\n",
      "“installation of package ‘rpart’ had non-zero exit status”\n",
      "Warning message in install.packages(\"recipes\"):\n",
      "“installation of package ‘survival’ had non-zero exit status”\n",
      "Warning message in install.packages(\"recipes\"):\n",
      "“installation of package ‘nnet’ had non-zero exit status”\n",
      "Warning message in install.packages(\"recipes\"):\n",
      "“installation of package ‘class’ had non-zero exit status”\n",
      "Warning message in install.packages(\"recipes\"):\n",
      "“installation of package ‘gower’ had non-zero exit status”\n"
     ],
     "output_type":"stream"
    }
   ],
   "metadata":{
    "datalore":{
     "node_id":"tc3xaebrNMd0xPxOkGJRU7",
     "type":"CODE",
     "hide_input_from_viewers":true,
     "hide_output_from_viewers":true
    }
   }
  },
  {
   "cell_type":"code",
   "source":[
    "library(recipes)\n",
    "dataset <- recipe(mpg ~ ., dataset) %>%\n",
    "    step_num2factor(origin, levels=c(\"USA\",\"Europe\",\"Japan\")) %>%\n",
    "    step_dummy(origin, one_hot=TRUE) %>%\n",
    "    prep() %>%\n",
    "    bake(new_data = NULL)"
   ],
   "execution_count":11,
   "outputs":[
    {
     "ename":"ERROR",
     "evalue":"ERROR: Error in library(recipes): there is no package called ‘recipes’\n",
     "traceback":[
      "\u001b[0;31m---------------------------------------------------------------------------",
      "Traceback (most recent call last)",
      "ERROR: Error in library(recipes): there is no package called ‘recipes’\n"
     ],
     "output_type":"error"
    }
   ],
   "metadata":{
    "datalore":{
     "node_id":"wYDWt7RWhjFvWrDqOofNUw",
     "type":"CODE",
     "hide_input_from_viewers":true,
     "hide_output_from_viewers":true
    }
   }
  },
  {
   "cell_type":"code",
   "source":[
    "glimpse(dataset)"
   ],
   "execution_count":null,
   "outputs":[
    
   ],
   "metadata":{
    "datalore":{
     "node_id":"fjQGvrxd03AoENU39JI9Y7",
     "type":"CODE",
     "hide_input_from_viewers":true,
     "hide_output_from_viewers":true
    }
   }
  },
  {
   "cell_type":"code",
   "source":[
    "#przygotowanie zbiorów: treningowego i testowego\n",
    "split<-initial_split(dataset,0.8)\n",
    "train_dataset <- training(split)\n",
    "test_dataset <- testing(split)"
   ],
   "execution_count":null,
   "outputs":[
    
   ],
   "metadata":{
    "datalore":{
     "node_id":"HW2nBRqV2CVecJpy4hvjB3",
     "type":"CODE",
     "hide_input_from_viewers":true,
     "hide_output_from_viewers":true
    }
   }
  },
  {
   "cell_type":"code",
   "source":[
    "train_dataset %>%\n",
    "    select(mpg,cylinders,displacement,weight) %>%\n",
    "    GGally::ggpairs()"
   ],
   "execution_count":null,
   "outputs":[
    
   ],
   "metadata":{
    "datalore":{
     "node_id":"u0JXwIneJ8uxQtabH3gKVg",
     "type":"CODE",
     "hide_input_from_viewers":true,
     "hide_output_from_viewers":true
    }
   }
  },
  {
   "cell_type":"code",
   "source":[
    "skimr::skim(train_dataset)"
   ],
   "execution_count":null,
   "outputs":[
    
   ],
   "metadata":{
    "datalore":{
     "node_id":"EyE1m9fcIBOq8L5rD3a4wc",
     "type":"CODE",
     "hide_input_from_viewers":true,
     "hide_output_from_viewers":true
    }
   }
  },
  {
   "cell_type":"code",
   "source":[
    "#sepracja wartości o etykiet w zbiorach\n",
    "train_features<-train_dataset %>% select(-mpg)\n",
    "test_features<-test_dataset %>% select(-mpg)\n",
    "\n",
    "train_labels<-train_dataset %>% select(mpg)\n",
    "test_labels<-test_dataset %>% select(mpg)"
   ],
   "execution_count":null,
   "outputs":[
    
   ],
   "metadata":{
    "datalore":{
     "node_id":"vNzSbRjeyKw4w5lMAuFwCA",
     "type":"CODE",
     "hide_input_from_viewers":true,
     "hide_output_from_viewers":true
    }
   }
  },
  {
   "cell_type":"code",
   "source":[
    "#Normalizacja danych\n",
    "my_skim <- skimr::skim_with(numeric = skimr::sfl(mean,sd))\n",
    "train_dataset %>%\n",
    "    select(where(~is.numeric(.x)))  %>%\n",
    "    pivot_longer(\n",
    "        cols=everything(), names_to = 'variable', values_to = 'values') %>%\n",
    "    group_by(variable) %>%\n",
    "    summarise(mean=mean(values), sd=sd(values))"
   ],
   "execution_count":null,
   "outputs":[
    
   ],
   "metadata":{
    "datalore":{
     "node_id":"81S59ra1ieHCccS5k235sg",
     "type":"CODE",
     "hide_input_from_viewers":true,
     "hide_output_from_viewers":true
    }
   }
  },
  {
   "cell_type":"code",
   "source":[
    "#warstwa normalizacji (Normalization Layer)\n",
    "normalizer<-layer_normalization(axis=-1L)"
   ],
   "execution_count":null,
   "outputs":[
    
   ],
   "metadata":{
    "datalore":{
     "node_id":"aO3xfPQjAt2DOfHta7YyjI",
     "type":"CODE",
     "hide_input_from_viewers":true,
     "hide_output_from_viewers":true
    }
   }
  },
  {
   "cell_type":"code",
   "source":[
    "normalizer %>% adapt(as.matrix(train_features))"
   ],
   "execution_count":null,
   "outputs":[
    
   ],
   "metadata":{
    "datalore":{
     "node_id":"qb94lChBpRot3yHtkGDCqq",
     "type":"CODE",
     "hide_input_from_viewers":true,
     "hide_output_from_viewers":true
    }
   }
  },
  {
   "cell_type":"code",
   "source":[
    "print(normalizer$mean)"
   ],
   "execution_count":null,
   "outputs":[
    
   ],
   "metadata":{
    "datalore":{
     "node_id":"CnNBVb1QNrJ1HYdoEPlXMQ",
     "type":"CODE",
     "hide_input_from_viewers":true,
     "hide_output_from_viewers":true
    }
   }
  },
  {
   "cell_type":"code",
   "source":[
    "first<-as.matrix(train_feaures[1,])\n",
    "cat('First example:',first)\n",
    "cat('Normalized:',as.matrix(normalizer(first)))"
   ],
   "execution_count":null,
   "outputs":[
    
   ],
   "metadata":{
    "datalore":{
     "node_id":"onEB2nIfNIchXRj7s4jlgh",
     "type":"CODE",
     "hide_input_from_viewers":true,
     "hide_output_from_viewers":true
    }
   }
  },
  {
   "cell_type":"code",
   "source":[
    "horsepower<-matrix(train_features$horsepower)\n",
    "horsepower_normalizer<-layer_normalization(input_shape = shape(1),axis=NULL)\n",
    "horsepower_normalizer %>% adapt(horsepower)"
   ],
   "execution_count":null,
   "outputs":[
    
   ],
   "metadata":{
    "datalore":{
     "node_id":"Yl1NgNMxM18zliQKCZirrQ",
     "type":"CODE",
     "hide_input_from_viewers":true,
     "hide_output_from_viewers":true
    }
   }
  },
  {
   "cell_type":"code",
   "source":[
    "horsepower_model <- keras_model_sequential() %>%\n",
    "    horsepower_normalizer() %>%\n",
    "    layer_dense(unit=1)\n",
    "\n",
    "summary(horsepower_model)"
   ],
   "execution_count":null,
   "outputs":[
    
   ],
   "metadata":{
    "datalore":{
     "node_id":"sIi4IAfZCxy0tR6Xd1xcVE",
     "type":"CODE",
     "hide_input_from_viewers":true,
     "hide_output_from_viewers":true
    }
   }
  },
  {
   "cell_type":"code",
   "source":[
    "#predykcja na niewtrenowanym modelu\n",
    "predict(horsepower_model,horserpower[1:10,])"
   ],
   "execution_count":null,
   "outputs":[
    
   ],
   "metadata":{
    "datalore":{
     "node_id":"k7fjkZ9oweG2q0jxj8M3qb",
     "type":"CODE",
     "hide_input_from_viewers":true,
     "hide_output_from_viewers":true
    }
   }
  },
  {
   "cell_type":"code",
   "source":[
    "#kompilacja modelu\n",
    "horsepower_model %>% compile(\n",
    "    optimizer=optimizer_adam(learning_rate=0.1),\n",
    "    loss='mean_absolute_error'\n",
    ")"
   ],
   "execution_count":null,
   "outputs":[
    
   ],
   "metadata":{
    "datalore":{
     "node_id":"U5M7QiLlgBAl1hT66Nph5l",
     "type":"CODE",
     "hide_input_from_viewers":true,
     "hide_output_from_viewers":true
    }
   }
  }
 ],
 "metadata":{
  "kernelspec":{
   "display_name":"R",
   "language":"r",
   "name":"ir"
  },
  "datalore":{
   "computation_mode":"JUPYTER",
   "package_manager":"conda",
   "base_environment":"minimal",
   "packages":[
    
   ],
   "report_row_ids":[
    
   ],
   "version":3
  }
 },
 "nbformat":4,
 "nbformat_minor":4
}