{
 "cells":[
  {
   "cell_type":"code",
   "source":[
    "df = read.csv('movies.csv')\n",
    "df"
   ],
   "execution_count":2,
   "outputs":[
    {
     "data":{
      "text\/html":[
       "<table class=\"dataframe\">\n",
       "<caption>A data.frame: 27278 × 3<\/caption>\n",
       "<thead>\n",
       "\t<tr><th scope=col>movieId<\/th><th scope=col>title<\/th><th scope=col>genres<\/th><\/tr>\n",
       "\t<tr><th scope=col>&lt;int&gt;<\/th><th scope=col>&lt;chr&gt;<\/th><th scope=col>&lt;chr&gt;<\/th><\/tr>\n",
       "<\/thead>\n",
       "<tbody>\n",
       "\t<tr><td> 1<\/td><td>Toy Story (1995)                                               <\/td><td>Adventure|Animation|Children|Comedy|Fantasy<\/td><\/tr>\n",
       "\t<tr><td> 2<\/td><td>Jumanji (1995)                                                 <\/td><td>Adventure|Children|Fantasy                 <\/td><\/tr>\n",
       "\t<tr><td> 3<\/td><td>Grumpier Old Men (1995)                                        <\/td><td>Comedy|Romance                             <\/td><\/tr>\n",
       "\t<tr><td> 4<\/td><td>Waiting to Exhale (1995)                                       <\/td><td>Comedy|Drama|Romance                       <\/td><\/tr>\n",
       "\t<tr><td> 5<\/td><td>Father of the Bride Part II (1995)                             <\/td><td>Comedy                                     <\/td><\/tr>\n",
       "\t<tr><td> 6<\/td><td>Heat (1995)                                                    <\/td><td>Action|Crime|Thriller                      <\/td><\/tr>\n",
       "\t<tr><td> 7<\/td><td>Sabrina (1995)                                                 <\/td><td>Comedy|Romance                             <\/td><\/tr>\n",
       "\t<tr><td> 8<\/td><td>Tom and Huck (1995)                                            <\/td><td>Adventure|Children                         <\/td><\/tr>\n",
       "\t<tr><td> 9<\/td><td>Sudden Death (1995)                                            <\/td><td>Action                                     <\/td><\/tr>\n",
       "\t<tr><td>10<\/td><td>GoldenEye (1995)                                               <\/td><td>Action|Adventure|Thriller                  <\/td><\/tr>\n",
       "\t<tr><td>11<\/td><td>American President, The (1995)                                 <\/td><td>Comedy|Drama|Romance                       <\/td><\/tr>\n",
       "\t<tr><td>12<\/td><td>Dracula: Dead and Loving It (1995)                             <\/td><td>Comedy|Horror                              <\/td><\/tr>\n",
       "\t<tr><td>13<\/td><td>Balto (1995)                                                   <\/td><td>Adventure|Animation|Children               <\/td><\/tr>\n",
       "\t<tr><td>14<\/td><td>Nixon (1995)                                                   <\/td><td>Drama                                      <\/td><\/tr>\n",
       "\t<tr><td>15<\/td><td>Cutthroat Island (1995)                                        <\/td><td>Action|Adventure|Romance                   <\/td><\/tr>\n",
       "\t<tr><td>16<\/td><td>Casino (1995)                                                  <\/td><td>Crime|Drama                                <\/td><\/tr>\n",
       "\t<tr><td>17<\/td><td>Sense and Sensibility (1995)                                   <\/td><td>Drama|Romance                              <\/td><\/tr>\n",
       "\t<tr><td>18<\/td><td>Four Rooms (1995)                                              <\/td><td>Comedy                                     <\/td><\/tr>\n",
       "\t<tr><td>19<\/td><td>Ace Ventura: When Nature Calls (1995)                          <\/td><td>Comedy                                     <\/td><\/tr>\n",
       "\t<tr><td>20<\/td><td>Money Train (1995)                                             <\/td><td>Action|Comedy|Crime|Drama|Thriller         <\/td><\/tr>\n",
       "\t<tr><td>21<\/td><td>Get Shorty (1995)                                              <\/td><td>Comedy|Crime|Thriller                      <\/td><\/tr>\n",
       "\t<tr><td>22<\/td><td>Copycat (1995)                                                 <\/td><td>Crime|Drama|Horror|Mystery|Thriller        <\/td><\/tr>\n",
       "\t<tr><td>23<\/td><td>Assassins (1995)                                               <\/td><td>Action|Crime|Thriller                      <\/td><\/tr>\n",
       "\t<tr><td>24<\/td><td>Powder (1995)                                                  <\/td><td>Drama|Sci-Fi                               <\/td><\/tr>\n",
       "\t<tr><td>25<\/td><td>Leaving Las Vegas (1995)                                       <\/td><td>Drama|Romance                              <\/td><\/tr>\n",
       "\t<tr><td>26<\/td><td>Othello (1995)                                                 <\/td><td>Drama                                      <\/td><\/tr>\n",
       "\t<tr><td>27<\/td><td>Now and Then (1995)                                            <\/td><td>Children|Drama                             <\/td><\/tr>\n",
       "\t<tr><td>28<\/td><td>Persuasion (1995)                                              <\/td><td>Drama|Romance                              <\/td><\/tr>\n",
       "\t<tr><td>29<\/td><td>City of Lost Children, The (Cité des enfants perdus, La) (1995)<\/td><td>Adventure|Drama|Fantasy|Mystery|Sci-Fi     <\/td><\/tr>\n",
       "\t<tr><td>30<\/td><td>Shanghai Triad (Yao a yao yao dao waipo qiao) (1995)           <\/td><td>Crime|Drama                                <\/td><\/tr>\n",
       "\t<tr><td>⋮<\/td><td>⋮<\/td><td>⋮<\/td><\/tr>\n",
       "\t<tr><td>131146<\/td><td>Werner - Volles Rooäää (1999)                         <\/td><td>Animation|Comedy                           <\/td><\/tr>\n",
       "\t<tr><td>131148<\/td><td>What A Man (2011)                                     <\/td><td>Comedy|Romance                             <\/td><\/tr>\n",
       "\t<tr><td>131150<\/td><td>7 Dwarves: The Forest Is Not Enough (2006)            <\/td><td>Comedy                                     <\/td><\/tr>\n",
       "\t<tr><td>131152<\/td><td>The Fat Spy (1966)                                    <\/td><td>Comedy                                     <\/td><\/tr>\n",
       "\t<tr><td>131154<\/td><td>Die Bademeister – Weiber, saufen, Leben retten (1999) <\/td><td>Comedy                                     <\/td><\/tr>\n",
       "\t<tr><td>131156<\/td><td>Ants in the Pants 2 (2002)                            <\/td><td>Comedy                                     <\/td><\/tr>\n",
       "\t<tr><td>131158<\/td><td>Manta, Manta (1991)                                   <\/td><td>Comedy                                     <\/td><\/tr>\n",
       "\t<tr><td>131160<\/td><td>Oscar and the Lady in Pink (2009)                     <\/td><td>Drama                                      <\/td><\/tr>\n",
       "\t<tr><td>131162<\/td><td>Por un puñado de besos (2014)                         <\/td><td>Drama|Romance                              <\/td><\/tr>\n",
       "\t<tr><td>131164<\/td><td>Vietnam in HD (2011)                                  <\/td><td>War                                        <\/td><\/tr>\n",
       "\t<tr><td>131166<\/td><td>WWII IN HD (2009)                                     <\/td><td>(no genres listed)                         <\/td><\/tr>\n",
       "\t<tr><td>131168<\/td><td>Phoenix (2014)                                        <\/td><td>Drama                                      <\/td><\/tr>\n",
       "\t<tr><td>131170<\/td><td>Parallels (2015)                                      <\/td><td>Sci-Fi                                     <\/td><\/tr>\n",
       "\t<tr><td>131172<\/td><td>Closed Curtain (2013)                                 <\/td><td>(no genres listed)                         <\/td><\/tr>\n",
       "\t<tr><td>131174<\/td><td>Gentlemen (2014)                                      <\/td><td>Drama|Romance|Thriller                     <\/td><\/tr>\n",
       "\t<tr><td>131176<\/td><td>A Second Chance (2014)                                <\/td><td>Drama                                      <\/td><\/tr>\n",
       "\t<tr><td>131180<\/td><td>Dead Rising: Watchtower (2015)                        <\/td><td>Action|Horror|Thriller                     <\/td><\/tr>\n",
       "\t<tr><td>131231<\/td><td>Standby (2014)                                        <\/td><td>Comedy|Romance                             <\/td><\/tr>\n",
       "\t<tr><td>131237<\/td><td>What Men Talk About (2010)                            <\/td><td>Comedy                                     <\/td><\/tr>\n",
       "\t<tr><td>131239<\/td><td>Three Quarter Moon (2011)                             <\/td><td>Comedy|Drama                               <\/td><\/tr>\n",
       "\t<tr><td>131241<\/td><td>Ants in the Pants (2000)                              <\/td><td>Comedy|Romance                             <\/td><\/tr>\n",
       "\t<tr><td>131243<\/td><td>Werner - Gekotzt wird später (2003)                   <\/td><td>Animation|Comedy                           <\/td><\/tr>\n",
       "\t<tr><td>131248<\/td><td>Brother Bear 2 (2006)                                 <\/td><td>Adventure|Animation|Children|Comedy|Fantasy<\/td><\/tr>\n",
       "\t<tr><td>131250<\/td><td>No More School (2000)                                 <\/td><td>Comedy                                     <\/td><\/tr>\n",
       "\t<tr><td>131252<\/td><td>Forklift Driver Klaus: The First Day on the Job (2001)<\/td><td>Comedy|Horror                              <\/td><\/tr>\n",
       "\t<tr><td>131254<\/td><td>Kein Bund für's Leben (2007)                          <\/td><td>Comedy                                     <\/td><\/tr>\n",
       "\t<tr><td>131256<\/td><td><span style=white-space:pre-wrap>Feuer, Eis &amp; Dosenbier (2002)                         <\/span><\/td><td><span style=white-space:pre-wrap>Comedy                                     <\/span><\/td><\/tr>\n",
       "\t<tr><td>131258<\/td><td>The Pirates (2014)                                    <\/td><td>Adventure                                  <\/td><\/tr>\n",
       "\t<tr><td>131260<\/td><td>Rentun Ruusu (2001)                                   <\/td><td>(no genres listed)                         <\/td><\/tr>\n",
       "\t<tr><td>131262<\/td><td>Innocence (2014)                                      <\/td><td>Adventure|Fantasy|Horror                   <\/td><\/tr>\n",
       "<\/tbody>\n",
       "<\/table>\n"
      ]
     },
     "metadata":{
      
     },
     "output_type":"display_data"
    }
   ],
   "metadata":{
    "datalore":{
     "node_id":"aUTkj7j6CUdBNxga8rs66b",
     "type":"CODE",
     "hide_input_from_viewers":true,
     "hide_output_from_viewers":true
    }
   }
  },
  {
   "cell_type":"code",
   "source":[
    "#prezentacja funkcji lm\n",
    "x<-c(rep(1:20))\n",
    "y<-x*2\n",
    "\n",
    "f<-lm(x~y)\n",
    "\n",
    "f"
   ],
   "execution_count":3,
   "outputs":[
    {
     "data":{
      "text\/plain":[
       "\n",
       "Call:\n",
       "lm(formula = x ~ y)\n",
       "\n",
       "Coefficients:\n",
       "(Intercept)            y  \n",
       "  1.589e-15    5.000e-01  \n"
      ]
     },
     "metadata":{
      
     },
     "output_type":"display_data"
    }
   ],
   "metadata":{
    "datalore":{
     "node_id":"yo4wf7gk8sASFv26uMYzOi",
     "type":"CODE",
     "hide_input_from_viewers":true,
     "hide_output_from_viewers":true
    }
   }
  }
 ],
 "metadata":{
  "kernelspec":{
   "display_name":"R",
   "language":"r",
   "name":"ir"
  },
  "datalore":{
   "computation_mode":"JUPYTER",
   "package_manager":"conda",
   "base_environment":"minimal",
   "packages":[
    
   ],
   "report_row_ids":[
    
   ],
   "version":3
  }
 },
 "nbformat":4,
 "nbformat_minor":4
}