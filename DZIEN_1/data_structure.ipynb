{
 "cells":[
  {
   "cell_type":"code",
   "source":[
    "v1<-c(4,6,9,11)\n",
    "typeof(v1)\n",
    "v2<-c(4L,6L,9L,11L)\n",
    "typeof(v2)\n",
    "v3<-c('Kraków','56',78)\n",
    "typeof(v3)"
   ],
   "execution_count":6,
   "outputs":[
    {
     "data":{
      "text\/html":[
       "'double'"
      ]
     },
     "metadata":{
      
     },
     "output_type":"display_data"
    },
    {
     "data":{
      "text\/html":[
       "'integer'"
      ]
     },
     "metadata":{
      
     },
     "output_type":"display_data"
    },
    {
     "data":{
      "text\/html":[
       "'character'"
      ]
     },
     "metadata":{
      
     },
     "output_type":"display_data"
    }
   ],
   "metadata":{
    "datalore":{
     "node_id":"BlbX445rKHIIwUTvrWQNoP",
     "type":"CODE",
     "hide_input_from_viewers":true,
     "hide_output_from_viewers":true
    }
   }
  },
  {
   "cell_type":"code",
   "source":[
    "X<-c(45,8,99,56,7,99,101)\n",
    "Y<-seq(1,10,length.out = 7)\n",
    "Z<-2:9\n",
    "\n",
    "cat('z użyciem funckji c',X,'\\n')\n",
    "cat('z użyciem funckji seq()',Y,'\\n')\n",
    "cat('z użyciem zakresu:',Z,'\\n')"
   ],
   "execution_count":8,
   "outputs":[
    {
     "name":"stdout",
     "text":[
      "z użyciem funckji c 45 8 99 56 7 99 101 \n",
      "z użyciem funckji seq() 1 2.5 4 5.5 7 8.5 10 \n",
      "z użyciem zakresu: 2 3 4 5 6 7 8 9 \n"
     ],
     "output_type":"stream"
    }
   ],
   "metadata":{
    "datalore":{
     "node_id":"xtFRdK9LfHKSV1XWH1T3hy",
     "type":"CODE",
     "hide_input_from_viewers":true,
     "hide_output_from_viewers":true
    }
   }
  },
  {
   "cell_type":"code",
   "source":[
    "length(X)\n",
    "length(Y)\n",
    "length(Z)"
   ],
   "execution_count":10,
   "outputs":[
    {
     "data":{
      "text\/html":[
       "7"
      ]
     },
     "metadata":{
      
     },
     "output_type":"display_data"
    },
    {
     "data":{
      "text\/html":[
       "7"
      ]
     },
     "metadata":{
      
     },
     "output_type":"display_data"
    },
    {
     "data":{
      "text\/html":[
       "8"
      ]
     },
     "metadata":{
      
     },
     "output_type":"display_data"
    }
   ],
   "metadata":{
    "datalore":{
     "node_id":"0ZGIPvgfvVTZ0kIalFGq19",
     "type":"CODE",
     "hide_input_from_viewers":true,
     "hide_output_from_viewers":true
    }
   }
  },
  {
   "cell_type":"code",
   "source":[
    "mojalista = list(5,85,3,35,7)\n",
    "mojalista\n",
    "typeof(mojalista)"
   ],
   "execution_count":12,
   "outputs":[
    {
     "data":{
      "text\/html":[
       "<ol>\n",
       "\t<li>5<\/li>\n",
       "\t<li>85<\/li>\n",
       "\t<li>3<\/li>\n",
       "\t<li>35<\/li>\n",
       "\t<li>7<\/li>\n",
       "<\/ol>\n"
      ]
     },
     "metadata":{
      
     },
     "output_type":"display_data"
    },
    {
     "data":{
      "text\/html":[
       "'list'"
      ]
     },
     "metadata":{
      
     },
     "output_type":"display_data"
    }
   ],
   "metadata":{
    "datalore":{
     "node_id":"ce5BFPlYACKHZyRHGdxucF",
     "type":"CODE",
     "hide_input_from_viewers":true,
     "hide_output_from_viewers":true
    }
   }
  },
  {
   "cell_type":"code",
   "source":[
    "mtab = array(2:13,dim=c(2,3,2))\n",
    "print(mtab)"
   ],
   "execution_count":13,
   "outputs":[
    {
     "name":"stdout",
     "text":[
      ", , 1\n",
      "\n",
      "     [,1] [,2] [,3]\n",
      "[1,]    2    4    6\n",
      "[2,]    3    5    7\n",
      "\n",
      ", , 2\n",
      "\n",
      "     [,1] [,2] [,3]\n",
      "[1,]    8   10   12\n",
      "[2,]    9   11   13\n",
      "\n"
     ],
     "output_type":"stream"
    }
   ],
   "metadata":{
    "datalore":{
     "node_id":"bMsg945HbH7MUHXrm0VzPW",
     "type":"CODE",
     "hide_input_from_viewers":true,
     "hide_output_from_viewers":true
    }
   }
  },
  {
   "cell_type":"code",
   "source":[
    "mm = matrix(51,6,6)\n",
    "print(mm)"
   ],
   "execution_count":14,
   "outputs":[
    {
     "name":"stdout",
     "text":[
      "     [,1] [,2] [,3] [,4] [,5] [,6]\n",
      "[1,]   51   51   51   51   51   51\n",
      "[2,]   51   51   51   51   51   51\n",
      "[3,]   51   51   51   51   51   51\n",
      "[4,]   51   51   51   51   51   51\n",
      "[5,]   51   51   51   51   51   51\n",
      "[6,]   51   51   51   51   51   51\n"
     ],
     "output_type":"stream"
    }
   ],
   "metadata":{
    "datalore":{
     "node_id":"bUYe5OKZSieqc3YZf0coSg",
     "type":"CODE",
     "hide_input_from_viewers":true,
     "hide_output_from_viewers":true
    }
   }
  },
  {
   "cell_type":"code",
   "source":[
    "m1 = diag(c(5,1,8),3,3)\n",
    "print(m1)"
   ],
   "execution_count":15,
   "outputs":[
    {
     "name":"stdout",
     "text":[
      "     [,1] [,2] [,3]\n",
      "[1,]    5    0    0\n",
      "[2,]    0    1    0\n",
      "[3,]    0    0    8\n"
     ],
     "output_type":"stream"
    }
   ],
   "metadata":{
    "datalore":{
     "node_id":"NZhXF4bHVtf8aaiY0X0FGK",
     "type":"CODE",
     "hide_input_from_viewers":true,
     "hide_output_from_viewers":true
    }
   }
  },
  {
   "cell_type":"code",
   "source":[
    "m1"
   ],
   "execution_count":16,
   "outputs":[
    {
     "data":{
      "text\/html":[
       "<table class=\"dataframe\">\n",
       "<caption>A matrix: 3 × 3 of type dbl<\/caption>\n",
       "<tbody>\n",
       "\t<tr><td>5<\/td><td>0<\/td><td>0<\/td><\/tr>\n",
       "\t<tr><td>0<\/td><td>1<\/td><td>0<\/td><\/tr>\n",
       "\t<tr><td>0<\/td><td>0<\/td><td>8<\/td><\/tr>\n",
       "<\/tbody>\n",
       "<\/table>\n"
      ]
     },
     "metadata":{
      
     },
     "output_type":"display_data"
    }
   ],
   "metadata":{
    "datalore":{
     "node_id":"fzlxou3cPLOqK0KBD0HI2k",
     "type":"CODE",
     "hide_input_from_viewers":true,
     "hide_output_from_viewers":true
    }
   }
  },
  {
   "cell_type":"code",
   "source":[
    "A = matrix(\n",
    "    c(1,3,7,11,3,4,12,8,3,4,1,7),\n",
    "    nrow = 4,\n",
    "    ncol = 3,\n",
    "    byrow = TRUE\n",
    ")\n",
    "\n",
    "print(A)"
   ],
   "execution_count":20,
   "outputs":[
    {
     "name":"stdout",
     "text":[
      "     [,1] [,2] [,3]\n",
      "[1,]    1    3    7\n",
      "[2,]   11    3    4\n",
      "[3,]   12    8    3\n",
      "[4,]    4    1    7\n"
     ],
     "output_type":"stream"
    }
   ],
   "metadata":{
    "datalore":{
     "node_id":"IeIgqAH16Q1p0eijDjv9Bc",
     "type":"CODE",
     "hide_input_from_viewers":true,
     "hide_output_from_viewers":true
    }
   }
  },
  {
   "cell_type":"code",
   "source":[
    "pl<-c(\"female\",\"male\",\"female\",\"male\",\"female\",\"male\",\"female\",\"male\",\"male\",\"female\")\n",
    "sx<-factor(pl)\n",
    "print(sx)"
   ],
   "execution_count":22,
   "outputs":[
    {
     "name":"stdout",
     "text":[
      " [1] female male   female male   female male   female male   male   female\n",
      "Levels: female male\n"
     ],
     "output_type":"stream"
    }
   ],
   "metadata":{
    "datalore":{
     "node_id":"eZ1tAAVcXAI895zl51Tuzc",
     "type":"CODE",
     "hide_input_from_viewers":true,
     "hide_output_from_viewers":true
    }
   }
  },
  {
   "cell_type":"code",
   "source":[
    "znajomi.data<-data.frame(\n",
    "    zn_id = c(1:5),\n",
    "    zn_imie = c(\"Leon\",\"Irena\",\"Jan\",\"Zofia\",\"Karol\"),\n",
    "    stringAsFactors = FALSE\n",
    ")\n",
    "print(znajomi.data)"
   ],
   "execution_count":23,
   "outputs":[
    {
     "name":"stdout",
     "text":[
      "  zn_id zn_imie stringAsFactors\n",
      "1     1    Leon           FALSE\n",
      "2     2   Irena           FALSE\n",
      "3     3     Jan           FALSE\n",
      "4     4   Zofia           FALSE\n",
      "5     5   Karol           FALSE\n"
     ],
     "output_type":"stream"
    }
   ],
   "metadata":{
    "datalore":{
     "node_id":"GoRlmldK5Lu7lzsgjQUSdG",
     "type":"CODE",
     "hide_input_from_viewers":true,
     "hide_output_from_viewers":true
    }
   }
  }
 ],
 "metadata":{
  "kernelspec":{
   "display_name":"R",
   "language":"r",
   "name":"ir"
  },
  "datalore":{
   "computation_mode":"JUPYTER",
   "package_manager":"conda",
   "base_environment":"minimal",
   "packages":[
    
   ],
   "report_row_ids":[
    
   ],
   "version":3
  }
 },
 "nbformat":4,
 "nbformat_minor":4
}