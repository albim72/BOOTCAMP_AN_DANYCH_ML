{
 "cells":[
  {
   "cell_type":"code",
   "source":[
    "install_tensorflow()\n",
    "install_keras()\n",
    "# install.packages(\"tensorflow\")\n",
    "# install.packages(\"keras\")\n",
    "library(tensorflow)\n",
    "library(keras)"
   ],
   "execution_count":7,
   "outputs":[
    {
     "name":"stdout",
     "text":[
      "\n",
      "Installation complete.\n",
      "\n",
      "\n",
      "Installation complete.\n",
      "\n"
     ],
     "output_type":"stream"
    }
   ],
   "metadata":{
    "datalore":{
     "node_id":"FNlOLVxxcugBObHH6YnYSc",
     "type":"CODE",
     "hide_input_from_viewers":true,
     "hide_output_from_viewers":true
    }
   }
  },
  {
   "cell_type":"code",
   "source":[
    "#ładowanie zbioru danych MNIST\n",
    "c(c(x_train,y_train),c(x_test,y_test)) %<-% keras::dataset_mnist()\n",
    "#normalizacja danych -> obraz to wektor o zdefiniowanej gęstości -> [0,1]\n",
    "x_train <- x_train\/255\n",
    "x_test <- x_test\/255"
   ],
   "execution_count":8,
   "outputs":[
    
   ],
   "metadata":{
    "datalore":{
     "node_id":"dRTOZM1w0nJVbfucaPKeFf",
     "type":"CODE",
     "hide_input_from_viewers":true,
     "hide_output_from_viewers":true
    }
   }
  },
  {
   "cell_type":"code",
   "source":[
    "#budowa modelu\n",
    "model <- keras_model_sequential(input_shape=c(28,28)) %>%\n",
    "    layer_flatten() %>%\n",
    "    layer_dense(128,activation = \"relu\") %>%\n",
    "    layer_dropout(0.2) %>%\n",
    "    layer_dense(10)"
   ],
   "execution_count":9,
   "outputs":[
    
   ],
   "metadata":{
    "datalore":{
     "node_id":"fHCzTc59RiCkVVNb31NRh1",
     "type":"CODE",
     "hide_input_from_viewers":true,
     "hide_output_from_viewers":true
    }
   }
  },
  {
   "cell_type":"code",
   "source":[
    "predictions <- predict(model,x_train[1:2])\n",
    "predictions"
   ],
   "execution_count":14,
   "outputs":[
    {
     "data":{
      "text\/plain":[
       "array([[-0.34397835,  0.14033812,  0.5053202 ,  0.18074636,  0.14514127,\n",
       "        -0.2242579 , -0.06040224,  0.20616299, -0.6994454 , -0.6499387 ],\n",
       "       [-0.48932916,  0.2569947 ,  0.01813009,  0.02535732, -0.03391495,\n",
       "        -0.39749962,  0.32088655,  0.22670843, -0.32812485, -0.5071781 ]],\n",
       "      dtype=float32)"
      ]
     },
     "metadata":{
      
     },
     "output_type":"display_data"
    }
   ],
   "metadata":{
    "datalore":{
     "node_id":"9bxmiYf111aKZ4KILybkA8",
     "type":"CODE",
     "hide_input_from_viewers":true,
     "hide_output_from_viewers":true
    }
   }
  },
  {
   "cell_type":"code",
   "source":[
    "tf$nn$softmax"
   ],
   "execution_count":15,
   "outputs":[
    {
     "data":{
      "text\/plain":[
       "<function softmax_v2 at 0x7f7b4161ea60>"
      ]
     },
     "metadata":{
      
     },
     "output_type":"display_data"
    }
   ],
   "metadata":{
    "datalore":{
     "node_id":"qg9qvG7Dr4wIEOgtbPSKRT",
     "type":"CODE",
     "hide_input_from_viewers":true,
     "hide_output_from_viewers":true
    }
   }
  },
  {
   "cell_type":"code",
   "source":[
    "tf$nn$softmax(predictions)"
   ],
   "execution_count":16,
   "outputs":[
    {
     "data":{
      "text\/plain":[
       "tf.Tensor(\n",
       "[[0.07190232 0.11670215 0.16810808 0.12151446 0.11726404 0.08104698\n",
       "  0.09547693 0.12464254 0.05039246 0.05295001]\n",
       " [0.06423287 0.13548203 0.10669501 0.10746891 0.10128409 0.07041066\n",
       "  0.14442074 0.1314403  0.07546882 0.06309655]], shape=(2, 10), dtype=float32)"
      ]
     },
     "metadata":{
      
     },
     "output_type":"display_data"
    }
   ],
   "metadata":{
    "datalore":{
     "node_id":"xOvVT3WLbwwEIooJ9xbTE7",
     "type":"CODE",
     "hide_input_from_viewers":true,
     "hide_output_from_viewers":true
    }
   }
  },
  {
   "cell_type":"code",
   "source":[
    "loss_fn <- loss_sparse_categorical_crossentropy(from_logits = TRUE)"
   ],
   "execution_count":17,
   "outputs":[
    
   ],
   "metadata":{
    "datalore":{
     "node_id":"26vrfkYIoj75oswCqPYxGu",
     "type":"CODE",
     "hide_input_from_viewers":true,
     "hide_output_from_viewers":true
    }
   }
  },
  {
   "cell_type":"code",
   "source":[
    "loss_fn(y_train[1:2],predictions)"
   ],
   "execution_count":18,
   "outputs":[
    {
     "data":{
      "text\/plain":[
       "tf.Tensor(2.4611363, shape=(), dtype=float32)"
      ]
     },
     "metadata":{
      
     },
     "output_type":"display_data"
    }
   ],
   "metadata":{
    "datalore":{
     "node_id":"JXR5mIDVu5syMX38wM9l1w",
     "type":"CODE",
     "hide_input_from_viewers":true,
     "hide_output_from_viewers":true
    }
   }
  },
  {
   "cell_type":"code",
   "source":[
    "model %>% compile(\n",
    "    optimizer=\"adam\",\n",
    "    loss = loss_fn,\n",
    "    metrics=\"accuracy\"\n",
    ")"
   ],
   "execution_count":19,
   "outputs":[
    
   ],
   "metadata":{
    "datalore":{
     "node_id":"28AWusgxOeU9J9JgLMOCU7",
     "type":"CODE",
     "hide_input_from_viewers":true,
     "hide_output_from_viewers":true
    }
   }
  }
 ],
 "metadata":{
  "kernelspec":{
   "display_name":"R",
   "language":"r",
   "name":"ir"
  },
  "datalore":{
   "computation_mode":"JUPYTER",
   "package_manager":"conda",
   "base_environment":"minimal",
   "packages":[
    {
     "name":"tensorflow",
     "source":"CRAN"
    },
    {
     "name":"keras",
     "source":"CRAN"
    }
   ],
   "report_row_ids":[
    
   ],
   "version":3
  }
 },
 "nbformat":4,
 "nbformat_minor":4
}