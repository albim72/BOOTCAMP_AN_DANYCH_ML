{
 "cells":[
  {
   "cell_type":"code",
   "source":[
    "# install_python()\n",
    "# stopf(\"installation of Python %s failed\", version)\n",
    "# stop(sprintf(fmt, ...), call. = call.)"
   ],
   "execution_count":12,
   "outputs":[
    {
     "name":"stderr",
     "text":[
      "+ '\/home\/datalore\/.local\/share\/r-reticulate\/pyenv\/libexec\/pyenv' install --skip-existing 3.9.17\n",
      "\n"
     ],
     "output_type":"stream"
    },
    {
     "ename":"ERROR",
     "evalue":"ERROR: Error: installation of Python 3.9.17 failed\n",
     "traceback":[
      "\u001b[0;31m---------------------------------------------------------------------------",
      "Traceback (most recent call last)",
      "ERROR: Error: installation of Python 3.9.17 failed\n"
     ],
     "output_type":"error"
    }
   ],
   "metadata":{
    "datalore":{
     "node_id":"azX9QVL1W3Gov6S5yD1Jgr",
     "type":"CODE",
     "hide_input_from_viewers":true,
     "hide_output_from_viewers":true
    }
   }
  },
  {
   "cell_type":"code",
   "source":[
    "# library(reticulate)\n",
    "# path_to_python <- install_python()\n",
    "# virtualenv_create(\"r-reticulate\",python=path_to_python)"
   ],
   "execution_count":11,
   "outputs":[
    {
     "name":"stdout",
     "text":[
      "Installing pyenv ...\n",
      "Done! pyenv has been installed to '\/home\/datalore\/.local\/share\/r-reticulate\/pyenv\/bin\/pyenv'.\n"
     ],
     "output_type":"stream"
    },
    {
     "name":"stderr",
     "text":[
      "+ '\/home\/datalore\/.local\/share\/r-reticulate\/pyenv\/libexec\/pyenv' install --skip-existing 3.9.17\n",
      "\n"
     ],
     "output_type":"stream"
    },
    {
     "ename":"ERROR",
     "evalue":"ERROR: Error: installation of Python 3.9.17 failed\n",
     "traceback":[
      "\u001b[0;31m---------------------------------------------------------------------------",
      "Traceback (most recent call last)",
      "ERROR: Error: installation of Python 3.9.17 failed\n"
     ],
     "output_type":"error"
    }
   ],
   "metadata":{
    "datalore":{
     "node_id":"uo8eYcJX1A4kbl4UZl1Tdu",
     "type":"CODE",
     "hide_input_from_viewers":true,
     "hide_output_from_viewers":true
    }
   }
  },
  {
   "cell_type":"code",
   "source":[
    "# library(tensorflow)\n",
    "# install_tensorflow(envname=\"r-reticulate\")"
   ],
   "execution_count":null,
   "outputs":[
    
   ],
   "metadata":{
    "datalore":{
     "node_id":"LNuJIw5bGENX24SnKuuN9e",
     "type":"CODE",
     "hide_input_from_viewers":true,
     "hide_output_from_viewers":true
    }
   }
  },
  {
   "cell_type":"code",
   "source":[
    "# install.packages(\"keras\")\n",
    "# library(keras)\n",
    "# install_keras(envname=\"r-reticulate\")"
   ],
   "execution_count":null,
   "outputs":[
    
   ],
   "metadata":{
    "datalore":{
     "node_id":"Bh3z8lwrqnhgrJs3ZCK2kG",
     "type":"CODE",
     "hide_input_from_viewers":true,
     "hide_output_from_viewers":true
    }
   }
  },
  {
   "cell_type":"code",
   "source":[
    "install_tensorflow()\n",
    "install_keras()\n",
    "library(tensorflow)\n",
    "library(keras)"
   ],
   "execution_count":13,
   "outputs":[
    {
     "name":"stdout",
     "text":[
      "\n",
      "Installation complete.\n",
      "\n",
      "\n",
      "Installation complete.\n",
      "\n"
     ],
     "output_type":"stream"
    }
   ],
   "metadata":{
    "datalore":{
     "node_id":"jcpP8FJABUckjoyfnalSkZ",
     "type":"CODE",
     "hide_input_from_viewers":true,
     "hide_output_from_viewers":true
    }
   }
  },
  {
   "cell_type":"code",
   "source":[
    "#ładowanie zbioru danych MNIST\n",
    "c(c(x_train,y_train),c(x_test,y_test)) %<-% keras::dataset_mnist()\n",
    "#normalizacja danych -> obraz to wektor o zdefiniowanej gęstości -> [0,1]\n",
    "x_train <- x_train\/255\n",
    "x_test <- x_test\/255"
   ],
   "execution_count":14,
   "outputs":[
    
   ],
   "metadata":{
    "datalore":{
     "node_id":"pNWizsr2YQ0WaB1C0QuA8y",
     "type":"CODE",
     "hide_input_from_viewers":true,
     "hide_output_from_viewers":true
    }
   }
  },
  {
   "cell_type":"code",
   "source":[
    
   ],
   "execution_count":null,
   "outputs":[
    
   ],
   "metadata":{
    "datalore":{
     "node_id":"iHF0ljYiYTtLGwFTAL0QRJ",
     "type":"CODE",
     "hide_input_from_viewers":true,
     "hide_output_from_viewers":true
    }
   }
  }
 ],
 "metadata":{
  "kernelspec":{
   "display_name":"R",
   "language":"r",
   "name":"ir"
  },
  "datalore":{
   "computation_mode":"JUPYTER",
   "package_manager":"conda",
   "base_environment":"minimal",
   "packages":[
    {
     "name":"tensorflow",
     "source":"CRAN"
    },
    {
     "name":"keras",
     "source":"CRAN"
    }
   ],
   "report_row_ids":[
    
   ],
   "version":3
  }
 },
 "nbformat":4,
 "nbformat_minor":4
}