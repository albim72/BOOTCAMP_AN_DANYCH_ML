{
 "cells":[
  {
   "cell_type":"code",
   "source":[
    "install.packages(\"tensorflow\")"
   ],
   "execution_count":1,
   "outputs":[
    {
     "name":"stderr",
     "text":[
      "also installing the dependencies ‘rprojroot’, ‘RcppTOML’, ‘here’, ‘png’, ‘whisker’, ‘config’, ‘reticulate’, ‘tfruns’, ‘tfautograph’\n",
      "\n",
      "\n",
      "Updating HTML index of packages in '.Library'\n",
      "\n",
      "Making 'packages.html' ...\n",
      " done\n",
      "\n"
     ],
     "output_type":"stream"
    }
   ],
   "metadata":{
    "datalore":{
     "node_id":"bqapIYCP8k1aDvcsVhABcn",
     "type":"CODE",
     "hide_input_from_viewers":true,
     "hide_output_from_viewers":true
    }
   }
  },
  {
   "cell_type":"code",
   "source":[
    "library(reticulate)\n",
    "path_to_python <- install_python()\n",
    "virtualenv_create(\"r-reticulate\", python = path_to_python)"
   ],
   "execution_count":2,
   "outputs":[
    {
     "name":"stdout",
     "text":[
      "Installing pyenv ...\n",
      "Done! pyenv has been installed to '\/home\/datalore\/.local\/share\/r-reticulate\/pyenv\/bin\/pyenv'.\n"
     ],
     "output_type":"stream"
    },
    {
     "name":"stderr",
     "text":[
      "+ '\/home\/datalore\/.local\/share\/r-reticulate\/pyenv\/libexec\/pyenv' install --skip-existing 3.9.17\n",
      "\n"
     ],
     "output_type":"stream"
    },
    {
     "ename":"ERROR",
     "evalue":"ERROR: Error: installation of Python 3.9.17 failed\n",
     "traceback":[
      "\u001b[0;31m---------------------------------------------------------------------------",
      "Traceback (most recent call last)",
      "ERROR: Error: installation of Python 3.9.17 failed\n"
     ],
     "output_type":"error"
    }
   ],
   "metadata":{
    "datalore":{
     "node_id":"RG6dkE63GZNhNknfdkJFZa",
     "type":"CODE",
     "hide_input_from_viewers":true,
     "hide_output_from_viewers":true
    }
   }
  },
  {
   "cell_type":"code",
   "source":[
    "library(tensorflow)\n",
    "install_tensorflow(envname=\"r-reticulate\")"
   ],
   "execution_count":3,
   "outputs":[
    {
     "name":"stdout",
     "text":[
      "Using Python: \/opt\/anaconda3\/bin\/python3.8\n",
      "Creating virtual environment 'r-reticulate' ... \n",
      "Done!\n",
      "Installing packages: 'pip', 'wheel', 'setuptools', 'numpy'\n",
      "Virtual environment 'r-reticulate' successfully created.\n",
      "Using virtual environment 'r-reticulate' ...\n",
      "\n",
      "Installation complete.\n",
      "\n"
     ],
     "output_type":"stream"
    },
    {
     "name":"stderr",
     "text":[
      "+ '\/opt\/anaconda3\/bin\/python3.8' -m venv '\/home\/datalore\/.virtualenvs\/r-reticulate'\n",
      "\n",
      "+ '\/home\/datalore\/.virtualenvs\/r-reticulate\/bin\/python' -m pip install --upgrade --no-user 'pip' 'wheel' 'setuptools' 'numpy'\n",
      "\n",
      "+ '\/home\/datalore\/.virtualenvs\/r-reticulate\/bin\/python' -m pip install --upgrade --no-user --ignore-installed 'tensorflow==2.11.*'\n",
      "\n"
     ],
     "output_type":"stream"
    }
   ],
   "metadata":{
    "datalore":{
     "node_id":"aFphen6Wo7GfLJgUEq77yu",
     "type":"CODE",
     "hide_input_from_viewers":true,
     "hide_output_from_viewers":true
    }
   }
  },
  {
   "cell_type":"code",
   "source":[
    "install.packages(\"keras\")\n",
    "library(keras)\n",
    "install_keras(envname=\"r-reticulate\")"
   ],
   "execution_count":4,
   "outputs":[
    {
     "name":"stdout",
     "text":[
      "Using virtual environment 'r-reticulate' ...\n",
      "\n",
      "Installation complete.\n",
      "\n"
     ],
     "output_type":"stream"
    },
    {
     "name":"stderr",
     "text":[
      "also installing the dependency ‘zeallot’\n",
      "\n",
      "\n",
      "Updating HTML index of packages in '.Library'\n",
      "\n",
      "Making 'packages.html' ...\n",
      " done\n",
      "\n",
      "+ '\/home\/datalore\/.virtualenvs\/r-reticulate\/bin\/python' -m pip install --upgrade --no-user --ignore-installed 'tensorflow==2.11.*' 'tensorflow-hub' 'tensorflow-datasets' 'scipy' 'requests' 'Pillow' 'h5py' 'pandas' 'pydot'\n",
      "\n"
     ],
     "output_type":"stream"
    }
   ],
   "metadata":{
    "datalore":{
     "node_id":"OJL0Tx4HqSbA91DnoIYwMW",
     "type":"CODE",
     "hide_input_from_viewers":true,
     "hide_output_from_viewers":true
    }
   }
  },
  {
   "cell_type":"code",
   "source":[
    "library(tensorflow)\n",
    "tf$constant(\"Witaj Tensoflow!\")"
   ],
   "execution_count":5,
   "outputs":[
    {
     "data":{
      "text\/plain":[
       "tf.Tensor(b'Witaj Tensoflow!', shape=(), dtype=string)"
      ]
     },
     "metadata":{
      
     },
     "output_type":"display_data"
    }
   ],
   "metadata":{
    "datalore":{
     "node_id":"JsbJOMw1B4S7evaVD3xiHG",
     "type":"CODE",
     "hide_input_from_viewers":true,
     "hide_output_from_viewers":true
    }
   }
  }
 ],
 "metadata":{
  "kernelspec":{
   "display_name":"R",
   "language":"r",
   "name":"ir"
  },
  "datalore":{
   "computation_mode":"JUPYTER",
   "package_manager":"conda",
   "base_environment":"minimal",
   "packages":[
    
   ],
   "report_row_ids":[
    
   ],
   "version":3
  }
 },
 "nbformat":4,
 "nbformat_minor":4
}