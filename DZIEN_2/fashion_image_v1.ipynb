{
 "cells":[
  {
   "cell_type":"code",
   "source":[
    "install.packages(\"tensorflow\")"
   ],
   "execution_count":1,
   "outputs":[
    {
     "name":"stderr",
     "text":[
      "also installing the dependencies ‘rprojroot’, ‘RcppTOML’, ‘here’, ‘png’, ‘whisker’, ‘config’, ‘reticulate’, ‘tfruns’, ‘tfautograph’\n",
      "\n",
      "\n",
      "Updating HTML index of packages in '.Library'\n",
      "\n",
      "Making 'packages.html' ...\n",
      " done\n",
      "\n"
     ],
     "output_type":"stream"
    }
   ],
   "metadata":{
    "datalore":{
     "node_id":"bqapIYCP8k1aDvcsVhABcn",
     "type":"CODE",
     "hide_input_from_viewers":true,
     "hide_output_from_viewers":true
    }
   }
  },
  {
   "cell_type":"code",
   "source":[
    "library(reticulate)\n",
    "path_to_python <- install_python()\n",
    "virtualenv_create(\"r-reticulate\", python = path_to_python)"
   ],
   "execution_count":2,
   "outputs":[
    {
     "name":"stdout",
     "text":[
      "Installing pyenv ...\n",
      "Done! pyenv has been installed to '\/home\/datalore\/.local\/share\/r-reticulate\/pyenv\/bin\/pyenv'.\n"
     ],
     "output_type":"stream"
    },
    {
     "name":"stderr",
     "text":[
      "+ '\/home\/datalore\/.local\/share\/r-reticulate\/pyenv\/libexec\/pyenv' install --skip-existing 3.9.17\n",
      "\n"
     ],
     "output_type":"stream"
    },
    {
     "ename":"ERROR",
     "evalue":"ERROR: Error: installation of Python 3.9.17 failed\n",
     "traceback":[
      "\u001b[0;31m---------------------------------------------------------------------------",
      "Traceback (most recent call last)",
      "ERROR: Error: installation of Python 3.9.17 failed\n"
     ],
     "output_type":"error"
    }
   ],
   "metadata":{
    "datalore":{
     "node_id":"RG6dkE63GZNhNknfdkJFZa",
     "type":"CODE",
     "hide_input_from_viewers":true,
     "hide_output_from_viewers":true
    }
   }
  },
  {
   "cell_type":"code",
   "source":[
    "library(tensorflow)\n",
    "install_tensorflow(envname=\"r-reticulate\")"
   ],
   "execution_count":3,
   "outputs":[
    {
     "name":"stdout",
     "text":[
      "Using Python: \/opt\/anaconda3\/bin\/python3.8\n",
      "Creating virtual environment 'r-reticulate' ... \n",
      "Done!\n",
      "Installing packages: 'pip', 'wheel', 'setuptools', 'numpy'\n",
      "Virtual environment 'r-reticulate' successfully created.\n",
      "Using virtual environment 'r-reticulate' ...\n",
      "\n",
      "Installation complete.\n",
      "\n"
     ],
     "output_type":"stream"
    },
    {
     "name":"stderr",
     "text":[
      "+ '\/opt\/anaconda3\/bin\/python3.8' -m venv '\/home\/datalore\/.virtualenvs\/r-reticulate'\n",
      "\n",
      "+ '\/home\/datalore\/.virtualenvs\/r-reticulate\/bin\/python' -m pip install --upgrade --no-user 'pip' 'wheel' 'setuptools' 'numpy'\n",
      "\n",
      "+ '\/home\/datalore\/.virtualenvs\/r-reticulate\/bin\/python' -m pip install --upgrade --no-user --ignore-installed 'tensorflow==2.11.*'\n",
      "\n"
     ],
     "output_type":"stream"
    }
   ],
   "metadata":{
    "datalore":{
     "node_id":"aFphen6Wo7GfLJgUEq77yu",
     "type":"CODE",
     "hide_input_from_viewers":true,
     "hide_output_from_viewers":true
    }
   }
  },
  {
   "cell_type":"code",
   "source":[
    "install.packages(\"keras\")\n",
    "library(keras)\n",
    "install_keras(envname=\"r-reticulate\")"
   ],
   "execution_count":4,
   "outputs":[
    {
     "name":"stdout",
     "text":[
      "Using virtual environment 'r-reticulate' ...\n",
      "\n",
      "Installation complete.\n",
      "\n"
     ],
     "output_type":"stream"
    },
    {
     "name":"stderr",
     "text":[
      "also installing the dependency ‘zeallot’\n",
      "\n",
      "\n",
      "Updating HTML index of packages in '.Library'\n",
      "\n",
      "Making 'packages.html' ...\n",
      " done\n",
      "\n",
      "+ '\/home\/datalore\/.virtualenvs\/r-reticulate\/bin\/python' -m pip install --upgrade --no-user --ignore-installed 'tensorflow==2.11.*' 'tensorflow-hub' 'tensorflow-datasets' 'scipy' 'requests' 'Pillow' 'h5py' 'pandas' 'pydot'\n",
      "\n"
     ],
     "output_type":"stream"
    }
   ],
   "metadata":{
    "datalore":{
     "node_id":"OJL0Tx4HqSbA91DnoIYwMW",
     "type":"CODE",
     "hide_input_from_viewers":true,
     "hide_output_from_viewers":true
    }
   }
  },
  {
   "cell_type":"code",
   "source":[
    "library(tensorflow)\n",
    "tf$constant(\"Witaj Tensoflow!\")"
   ],
   "execution_count":5,
   "outputs":[
    {
     "data":{
      "text\/plain":[
       "tf.Tensor(b'Witaj Tensoflow!', shape=(), dtype=string)"
      ]
     },
     "metadata":{
      
     },
     "output_type":"display_data"
    }
   ],
   "metadata":{
    "datalore":{
     "node_id":"JsbJOMw1B4S7evaVD3xiHG",
     "type":"CODE",
     "hide_input_from_viewers":true,
     "hide_output_from_viewers":true
    }
   }
  },
  {
   "cell_type":"code",
   "source":[
    "fashion_mnist <- dataset_fashion_mnist()\n",
    "c(train_images,train_labels) %<-% fashion_mnist$train\n",
    "c(test_images,test_labels) %<-% fashion_mnist$test"
   ],
   "execution_count":6,
   "outputs":[
    
   ],
   "metadata":{
    "datalore":{
     "node_id":"5LsEdprPzmnRns4XQL0Vul",
     "type":"CODE",
     "hide_input_from_viewers":true,
     "hide_output_from_viewers":true
    }
   }
  },
  {
   "cell_type":"code",
   "source":[
    "class_names = c('T-shirt\/top',\n",
    "'Trouser',\n",
    "'Pullover',\n",
    "'Dress',\n",
    "'Coat',\n",
    "'Sandal',\n",
    "'Shirt',\n",
    "'Sneaker',\n",
    "'Bag',\n",
    "'Ankle boot')"
   ],
   "execution_count":7,
   "outputs":[
    
   ],
   "metadata":{
    "datalore":{
     "node_id":"Tew8Mhbpjg88HP3qkF9Ru3",
     "type":"CODE",
     "hide_input_from_viewers":true,
     "hide_output_from_viewers":true
    }
   }
  },
  {
   "cell_type":"code",
   "source":[
    "dim(train_images)"
   ],
   "execution_count":8,
   "outputs":[
    {
     "data":{
      "text\/html":[
       "<style>\n",
       ".list-inline {list-style: none; margin:0; padding: 0}\n",
       ".list-inline>li {display: inline-block}\n",
       ".list-inline>li:not(:last-child)::after {content: \"\\00b7\"; padding: 0 .5ex}\n",
       "<\/style>\n",
       "<ol class=list-inline><li>60000<\/li><li>28<\/li><li>28<\/li><\/ol>\n"
      ]
     },
     "metadata":{
      
     },
     "output_type":"display_data"
    }
   ],
   "metadata":{
    "datalore":{
     "node_id":"uwIPG84doX7FFaXnOoE458",
     "type":"CODE",
     "hide_input_from_viewers":true,
     "hide_output_from_viewers":true
    }
   }
  },
  {
   "cell_type":"code",
   "source":[
    "dim(train_labels)"
   ],
   "execution_count":9,
   "outputs":[
    {
     "data":{
      "text\/html":[
       "60000"
      ]
     },
     "metadata":{
      
     },
     "output_type":"display_data"
    }
   ],
   "metadata":{
    "datalore":{
     "node_id":"QwdsmfKSj6UgffkpojfZCF",
     "type":"CODE",
     "hide_input_from_viewers":true,
     "hide_output_from_viewers":true
    }
   }
  },
  {
   "cell_type":"code",
   "source":[
    "train_labels[1:20]"
   ],
   "execution_count":10,
   "outputs":[
    {
     "data":{
      "text\/html":[
       "<style>\n",
       ".list-inline {list-style: none; margin:0; padding: 0}\n",
       ".list-inline>li {display: inline-block}\n",
       ".list-inline>li:not(:last-child)::after {content: \"\\00b7\"; padding: 0 .5ex}\n",
       "<\/style>\n",
       "<ol class=list-inline><li>9<\/li><li>0<\/li><li>0<\/li><li>3<\/li><li>0<\/li><li>2<\/li><li>7<\/li><li>2<\/li><li>5<\/li><li>5<\/li><li>0<\/li><li>9<\/li><li>5<\/li><li>5<\/li><li>7<\/li><li>9<\/li><li>1<\/li><li>0<\/li><li>6<\/li><li>4<\/li><\/ol>\n"
      ]
     },
     "metadata":{
      
     },
     "output_type":"display_data"
    }
   ],
   "metadata":{
    "datalore":{
     "node_id":"wpvG34Pguuv2RzF266kDZ1",
     "type":"CODE",
     "hide_input_from_viewers":true,
     "hide_output_from_viewers":true
    }
   }
  },
  {
   "cell_type":"code",
   "source":[
    "dim(test_images)"
   ],
   "execution_count":11,
   "outputs":[
    {
     "data":{
      "text\/html":[
       "<style>\n",
       ".list-inline {list-style: none; margin:0; padding: 0}\n",
       ".list-inline>li {display: inline-block}\n",
       ".list-inline>li:not(:last-child)::after {content: \"\\00b7\"; padding: 0 .5ex}\n",
       "<\/style>\n",
       "<ol class=list-inline><li>10000<\/li><li>28<\/li><li>28<\/li><\/ol>\n"
      ]
     },
     "metadata":{
      
     },
     "output_type":"display_data"
    }
   ],
   "metadata":{
    "datalore":{
     "node_id":"al20FYwxaGouHquLgdnwPa",
     "type":"CODE",
     "hide_input_from_viewers":true,
     "hide_output_from_viewers":true
    }
   }
  },
  {
   "cell_type":"code",
   "source":[
    
   ],
   "execution_count":null,
   "outputs":[
    
   ],
   "metadata":{
    "datalore":{
     "node_id":"c7A6NaFCfQg56GUdildPHE",
     "type":"CODE",
     "hide_input_from_viewers":true,
     "hide_output_from_viewers":true
    }
   }
  }
 ],
 "metadata":{
  "kernelspec":{
   "display_name":"R",
   "language":"r",
   "name":"ir"
  },
  "datalore":{
   "computation_mode":"JUPYTER",
   "package_manager":"conda",
   "base_environment":"minimal",
   "packages":[
    
   ],
   "report_row_ids":[
    
   ],
   "version":3
  }
 },
 "nbformat":4,
 "nbformat_minor":4
}